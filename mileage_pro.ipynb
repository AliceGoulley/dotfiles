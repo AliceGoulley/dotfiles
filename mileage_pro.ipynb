{
 "cells": [
  {
   "cell_type": "code",
   "execution_count": 1,
   "id": "cad47d91",
   "metadata": {},
   "outputs": [
    {
     "name": "stderr",
     "output_type": "stream",
     "text": [
      "/Users/alicegoulley/.pyenv/versions/3.8.12/envs/lewagon/lib/python3.8/site-packages/snowflake/connector/options.py:96: UserWarning: You have an incompatible version of 'pyarrow' installed (4.0.1), please install a version that adheres to: 'pyarrow<6.1.0,>=6.0.0; extra == \"pandas\"'\n",
      "  warn_incompatible_dep(\n"
     ]
    }
   ],
   "source": [
    "#Snowflake\n",
    "from sqlalchemy import create_engine, sql\n",
    "from snowflake.sqlalchemy import URL\n",
    "\n",
    "#Librairies\n",
    "from os import environ\n",
    "import pandas as pd\n",
    "import matplotlib.pyplot as plt\n",
    "import numpy as np\n",
    "from pandas_profiling import ProfileReport\n",
    "import seaborn as sns\n",
    "%matplotlib inline"
   ]
  },
  {
   "cell_type": "code",
   "execution_count": 2,
   "id": "1380b0b4",
   "metadata": {},
   "outputs": [],
   "source": [
    "url = URL(\n",
    "    account = environ.get('SNOWFLAKE_ACCOUNT'),\n",
    "    user = environ.get('SNOWFLAKE_USER'),\n",
    "    password = environ.get('SNOWFLAKE_PWD'),\n",
    "    database = 'production',\n",
    "    schema = 'common',\n",
    "    warehouse = environ.get('SNOWFLAKE_WH'),\n",
    "    role = environ.get('SNOWFLAKE_ROLE'),\n",
    ")"
   ]
  },
  {
   "cell_type": "code",
   "execution_count": 3,
   "id": "ee271232",
   "metadata": {},
   "outputs": [],
   "source": [
    "qstr = '''\n",
    "    \n",
    "    select distinct\n",
    "        rentals.id,\n",
    "        car_id,\n",
    "        precise_ends_at,\n",
    "        checkin_mileage,\n",
    "        checkout_mileage,\n",
    "        lag(checkout_mileage) over (partition by car_id order by precise_ends_at) as previous_checkout_mileage,\n",
    "        checkout_mileage - checkin_mileage as mileage_run\n",
    "\n",
    "    from common.rentals \n",
    "\n",
    "    left join common.cars\n",
    "        on rentals.car_id = cars.id \n",
    "\n",
    "    where rentals.state = 'ended'\n",
    "    and is_open\n",
    "    and cars.state = 'active'\n",
    "    and checkin_type = 'open'\n",
    "\n",
    "\n",
    "'''\n"
   ]
  },
  {
   "cell_type": "code",
   "execution_count": 4,
   "id": "418482e8",
   "metadata": {},
   "outputs": [],
   "source": [
    "engine_snowflake = create_engine(url)\n",
    "connection = engine_snowflake.connect()\n",
    "try:\n",
    "    df = pd.read_sql(\n",
    "        qstr, \n",
    "        engine_snowflake\n",
    "        \n",
    "    )\n",
    "    # You can directly cast the date columns as dates by adding in \n",
    "    # pd.read_sql_query the arg parse_dates=['name_column_date1','name_column_date2']\n",
    "finally:\n",
    "    connection.close()\n",
    "    engine_snowflake.dispose()"
   ]
  },
  {
   "cell_type": "code",
   "execution_count": 5,
   "id": "372ec4ab",
   "metadata": {
    "scrolled": true
   },
   "outputs": [
    {
     "data": {
      "text/html": [
       "<div>\n",
       "<style scoped>\n",
       "    .dataframe tbody tr th:only-of-type {\n",
       "        vertical-align: middle;\n",
       "    }\n",
       "\n",
       "    .dataframe tbody tr th {\n",
       "        vertical-align: top;\n",
       "    }\n",
       "\n",
       "    .dataframe thead th {\n",
       "        text-align: right;\n",
       "    }\n",
       "</style>\n",
       "<table border=\"1\" class=\"dataframe\">\n",
       "  <thead>\n",
       "    <tr style=\"text-align: right;\">\n",
       "      <th></th>\n",
       "      <th>id</th>\n",
       "      <th>car_id</th>\n",
       "      <th>precise_ends_at</th>\n",
       "      <th>checkin_mileage</th>\n",
       "      <th>checkout_mileage</th>\n",
       "      <th>previous_checkout_mileage</th>\n",
       "      <th>mileage_run</th>\n",
       "    </tr>\n",
       "  </thead>\n",
       "  <tbody>\n",
       "    <tr>\n",
       "      <th>0</th>\n",
       "      <td>6453901</td>\n",
       "      <td>927293</td>\n",
       "      <td>2021-12-30 17:00:00</td>\n",
       "      <td>106696.0</td>\n",
       "      <td>106741.0</td>\n",
       "      <td>106681.0</td>\n",
       "      <td>45.0</td>\n",
       "    </tr>\n",
       "    <tr>\n",
       "      <th>1</th>\n",
       "      <td>6766251</td>\n",
       "      <td>927293</td>\n",
       "      <td>2022-06-01 18:00:00</td>\n",
       "      <td>108734.0</td>\n",
       "      <td>108743.0</td>\n",
       "      <td>108734.0</td>\n",
       "      <td>9.0</td>\n",
       "    </tr>\n",
       "    <tr>\n",
       "      <th>2</th>\n",
       "      <td>6721535</td>\n",
       "      <td>926549</td>\n",
       "      <td>2022-05-14 17:30:00</td>\n",
       "      <td>52953.0</td>\n",
       "      <td>53004.0</td>\n",
       "      <td>52953.0</td>\n",
       "      <td>51.0</td>\n",
       "    </tr>\n",
       "    <tr>\n",
       "      <th>3</th>\n",
       "      <td>6792285</td>\n",
       "      <td>926549</td>\n",
       "      <td>2022-06-10 04:00:00</td>\n",
       "      <td>53876.0</td>\n",
       "      <td>53927.0</td>\n",
       "      <td>53876.0</td>\n",
       "      <td>51.0</td>\n",
       "    </tr>\n",
       "    <tr>\n",
       "      <th>4</th>\n",
       "      <td>6280299</td>\n",
       "      <td>847672</td>\n",
       "      <td>2021-10-27 20:30:00</td>\n",
       "      <td>81562.0</td>\n",
       "      <td>84440.0</td>\n",
       "      <td>81562.0</td>\n",
       "      <td>2878.0</td>\n",
       "    </tr>\n",
       "  </tbody>\n",
       "</table>\n",
       "</div>"
      ],
      "text/plain": [
       "        id  car_id     precise_ends_at  checkin_mileage  checkout_mileage  \\\n",
       "0  6453901  927293 2021-12-30 17:00:00         106696.0          106741.0   \n",
       "1  6766251  927293 2022-06-01 18:00:00         108734.0          108743.0   \n",
       "2  6721535  926549 2022-05-14 17:30:00          52953.0           53004.0   \n",
       "3  6792285  926549 2022-06-10 04:00:00          53876.0           53927.0   \n",
       "4  6280299  847672 2021-10-27 20:30:00          81562.0           84440.0   \n",
       "\n",
       "   previous_checkout_mileage  mileage_run  \n",
       "0                   106681.0         45.0  \n",
       "1                   108734.0          9.0  \n",
       "2                    52953.0         51.0  \n",
       "3                    53876.0         51.0  \n",
       "4                    81562.0       2878.0  "
      ]
     },
     "execution_count": 5,
     "metadata": {},
     "output_type": "execute_result"
    }
   ],
   "source": [
    "df.head()"
   ]
  },
  {
   "cell_type": "code",
   "execution_count": 6,
   "id": "583b29fd",
   "metadata": {},
   "outputs": [
    {
     "data": {
      "text/plain": [
       "<AxesSubplot:>"
      ]
     },
     "execution_count": 6,
     "metadata": {},
     "output_type": "execute_result"
    },
    {
     "data": {
      "image/png": "[encoded data removed]",
      "text/plain": [
       "<Figure size 432x288 with 1 Axes>"
      ]
     },
     "metadata": {
      "needs_background": "light"
     },
     "output_type": "display_data"
    }
   ],
   "source": [
    "df.boxplot('mileage_run')"
   ]
  },
  {
   "cell_type": "code",
   "execution_count": 7,
   "id": "9efe3c5b",
   "metadata": {},
   "outputs": [],
   "source": [
    "df = df[df['mileage_run']>0]"
   ]
  },
  {
   "cell_type": "code",
   "execution_count": 8,
   "id": "3a22fff5",
   "metadata": {
    "scrolled": true
   },
   "outputs": [
    {
     "data": {
      "text/plain": [
       "<AxesSubplot:>"
      ]
     },
     "execution_count": 8,
     "metadata": {},
     "output_type": "execute_result"
    },
    {
     "data": {
      "image/png": "[encoded data removed]",
      "text/plain": [
       "<Figure size 432x288 with 1 Axes>"
      ]
     },
     "metadata": {
      "needs_background": "light"
     },
     "output_type": "display_data"
    }
   ],
   "source": [
    "df.boxplot('mileage_run')"
   ]
  },
  {
   "cell_type": "code",
   "execution_count": 9,
   "id": "51ef3375",
   "metadata": {},
   "outputs": [
    {
     "data": {
      "text/plain": [
       "count    4.603310e+05\n",
       "mean     6.208524e+03\n",
       "std      1.254749e+05\n",
       "min      1.000000e+00\n",
       "25%      6.300000e+01\n",
       "50%      1.540000e+02\n",
       "75%      3.510000e+02\n",
       "max      2.684350e+06\n",
       "Name: mileage_run, dtype: float64"
      ]
     },
     "execution_count": 9,
     "metadata": {},
     "output_type": "execute_result"
    }
   ],
   "source": [
    "df['mileage_run'].describe()"
   ]
  },
  {
   "cell_type": "code",
   "execution_count": 16,
   "id": "dd2c7e7d",
   "metadata": {},
   "outputs": [],
   "source": [
    "Q1 = 6.300000e+01\n",
    "Q3 = 3.510000e+02"
   ]
  },
  {
   "cell_type": "code",
   "execution_count": 17,
   "id": "e9552456",
   "metadata": {},
   "outputs": [],
   "source": [
    "IQR = Q3 - Q1"
   ]
  },
  {
   "cell_type": "code",
   "execution_count": 24,
   "id": "acddc5a0",
   "metadata": {},
   "outputs": [
    {
     "data": {
      "text/plain": [
       "288.0"
      ]
     },
     "execution_count": 24,
     "metadata": {},
     "output_type": "execute_result"
    }
   ],
   "source": [
    "IQR"
   ]
  },
  {
   "cell_type": "code",
   "execution_count": 18,
   "id": "aacc38cf",
   "metadata": {},
   "outputs": [],
   "source": [
    "lower_range = Q1 - 1.5 * IQR\n",
    "upper_range = Q3 + 1.5 * IQR"
   ]
  },
  {
   "cell_type": "code",
   "execution_count": 22,
   "id": "874ae55c",
   "metadata": {},
   "outputs": [
    {
     "data": {
      "text/plain": [
       "-369.0"
      ]
     },
     "execution_count": 22,
     "metadata": {},
     "output_type": "execute_result"
    }
   ],
   "source": [
    "lower_range"
   ]
  },
  {
   "cell_type": "code",
   "execution_count": 23,
   "id": "8e0ea137",
   "metadata": {},
   "outputs": [
    {
     "data": {
      "text/plain": [
       "783.0"
      ]
     },
     "execution_count": 23,
     "metadata": {},
     "output_type": "execute_result"
    }
   ],
   "source": [
    "upper_range"
   ]
  },
  {
   "cell_type": "code",
   "execution_count": 19,
   "id": "90d30a71",
   "metadata": {},
   "outputs": [],
   "source": [
    "df2 = df.loc[((df['mileage_run']<upper_range)\\\n",
    "       & (df['mileage_run']>lower_range))\n",
    "       | (df['mileage_run'].isna())]"
   ]
  },
  {
   "cell_type": "code",
   "execution_count": 20,
   "id": "9bdc22c5",
   "metadata": {
    "scrolled": true
   },
   "outputs": [
    {
     "data": {
      "text/plain": [
       "count    426126.000000\n",
       "mean        197.826305\n",
       "std         180.094976\n",
       "min           1.000000\n",
       "25%          58.000000\n",
       "50%         137.000000\n",
       "75%         287.000000\n",
       "max         782.000000\n",
       "Name: mileage_run, dtype: float64"
      ]
     },
     "execution_count": 20,
     "metadata": {},
     "output_type": "execute_result"
    }
   ],
   "source": [
    "df2['mileage_run'].describe()"
   ]
  },
  {
   "cell_type": "code",
   "execution_count": 21,
   "id": "b13a583a",
   "metadata": {},
   "outputs": [
    {
     "data": {
      "text/plain": [
       "<AxesSubplot:>"
      ]
     },
     "execution_count": 21,
     "metadata": {},
     "output_type": "execute_result"
    },
    {
     "data": {
      "image/png": "[encoded data removed]",
      "text/plain": [
       "<Figure size 432x288 with 1 Axes>"
      ]
     },
     "metadata": {
      "needs_background": "light"
     },
     "output_type": "display_data"
    }
   ],
   "source": [
    "df2.boxplot('mileage_run')"
   ]
  },
  {
   "cell_type": "code",
   "execution_count": null,
   "id": "03546d53",
   "metadata": {},
   "outputs": [],
   "source": []
  }
 ],
 "metadata": {
  "kernelspec": {
   "display_name": "Python 3 (ipykernel)",
   "language": "python",
   "name": "python3"
  },
  "language_info": {
   "codemirror_mode": {
    "name": "ipython",
    "version": 3
   },
   "file_extension": ".py",
   "mimetype": "text/x-python",
   "name": "python",
   "nbconvert_exporter": "python",
   "pygments_lexer": "ipython3",
   "version": "3.8.12"
  },
  "toc": {
   "base_numbering": 1,
   "nav_menu": {},
   "number_sections": true,
   "sideBar": true,
   "skip_h1_title": false,
   "title_cell": "Table of Contents",
   "title_sidebar": "Contents",
   "toc_cell": false,
   "toc_position": {},
   "toc_section_display": true,
   "toc_window_display": false
  }
 },
 "nbformat": 4,
 "nbformat_minor": 5
}
